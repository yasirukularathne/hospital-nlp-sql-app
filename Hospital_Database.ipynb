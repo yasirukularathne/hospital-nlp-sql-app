{
 "cells": [
  {
   "cell_type": "code",
   "execution_count": 41,
   "id": "b281eab2",
   "metadata": {},
   "outputs": [],
   "source": [
    "!pip install langchain_openai -q\n",
    "!pip install langchain_community -q\n",
    "!pip install langchain -q"
   ]
  },
  {
   "cell_type": "code",
   "execution_count": 42,
   "id": "05e472c4",
   "metadata": {},
   "outputs": [],
   "source": [
    "import sqlite3"
   ]
  },
  {
   "cell_type": "code",
   "execution_count": 43,
   "id": "ba4a5211",
   "metadata": {},
   "outputs": [],
   "source": [
    "Dbconnect = sqlite3.connect(\"Hospital.db\")"
   ]
  },
  {
   "cell_type": "code",
   "execution_count": 44,
   "id": "0b0def71",
   "metadata": {},
   "outputs": [],
   "source": [
    "HospitalDB = Dbconnect.cursor()"
   ]
  },
  {
   "cell_type": "code",
   "execution_count": 45,
   "id": "e8078e3c",
   "metadata": {},
   "outputs": [
    {
     "name": "stdout",
     "output_type": "stream",
     "text": [
      "Doctor_id | Name         | Age\n",
      "------------------------------\n",
      "1         | Dr. Namalie  | 45\n",
      "2         | Dr. Nalin    | 38\n",
      "3         | Dr. Gihan    | 50\n",
      "4         | Dr. Wasana   | 40\n",
      "5         | Dr. Anjana   | 35\n",
      "6         | Dr. Nadeesha | 42\n",
      "7         | Dr. Kavindya | 32\n",
      "8         | Dr. Malith   | 48\n",
      "9         | Dr. Sithara  | 37\n",
      "10        | Dr. Anushka  | 35\n",
      "11        | Dr. Namalie  | 45\n",
      "12        | Dr. Nalin    | 38\n",
      "13        | Dr. Gihan    | 50\n",
      "14        | Dr. Wasana   | 40\n",
      "15        | Dr. Anjana   | 35\n",
      "16        | Dr. Nadeesha | 42\n",
      "17        | Dr. Kavindya | 32\n",
      "18        | Dr. Malith   | 48\n",
      "19        | Dr. Sithara  | 37\n",
      "20        | Dr. Anushka  | 35\n",
      "21        | Dr. Namalie  | 45\n",
      "22        | Dr. Nalin    | 38\n",
      "23        | Dr. Gihan    | 50\n",
      "24        | Dr. Wasana   | 40\n",
      "25        | Dr. Anjana   | 35\n",
      "26        | Dr. Nadeesha | 42\n",
      "27        | Dr. Kavindya | 32\n",
      "28        | Dr. Malith   | 48\n",
      "29        | Dr. Sithara  | 37\n",
      "30        | Dr. Anushka  | 35\n",
      "31        | Dr. Namalie  | 45\n",
      "32        | Dr. Nalin    | 38\n",
      "33        | Dr. Gihan    | 50\n",
      "34        | Dr. Wasana   | 40\n",
      "35        | Dr. Anjana   | 35\n",
      "36        | Dr. Nadeesha | 42\n",
      "37        | Dr. Kavindya | 32\n",
      "38        | Dr. Malith   | 48\n",
      "39        | Dr. Sithara  | 37\n",
      "40        | Dr. Anushka  | 35\n"
     ]
    }
   ],
   "source": [
    "\n",
    "# Create the Doctors table\n",
    "HospitalDB.execute(\"\"\"\n",
    "CREATE TABLE IF NOT EXISTS Doctors (\n",
    "    Doctor_id INTEGER PRIMARY KEY AUTOINCREMENT,\n",
    "    name TEXT NOT NULL,\n",
    "    age INTEGER NOT NULL            \n",
    ")\"\"\")\n",
    "\n",
    "\n",
    "Doctors = [\n",
    "        (\"Dr. Namalie\", 45),\n",
    "        (\"Dr. Nalin\", 38),\n",
    "        (\"Dr. Gihan\", 50),\n",
    "        (\"Dr. Wasana\", 40),\n",
    "        (\"Dr. Anjana\", 35),\n",
    "        (\"Dr. Nadeesha\", 42),\n",
    "        (\"Dr. Kavindya\", 32),\n",
    "        (\"Dr. Malith\", 48),\n",
    "        (\"Dr. Sithara\", 37),\n",
    "        (\"Dr. Anushka\", 35),\n",
    "    ]\n",
    "    \n",
    "HospitalDB.executemany(\"INSERT INTO Doctors (name, age) VALUES (?, ?)\", Doctors)\n",
    "\n",
    "\n",
    "# Fetch all records from Doctors table\n",
    "HospitalDB.execute(\"SELECT * FROM Doctors\")\n",
    "Doctors_Data = HospitalDB.fetchall()\n",
    "\n",
    "# Print table header\n",
    "print(\"Doctor_id | Name         | Age\")\n",
    "print(\"------------------------------\")\n",
    "\n",
    "# Print each row\n",
    "for row in Doctors_Data:\n",
    "    print(f\"{row[0]:<9} | {row[1]:<12} | {row[2]}\")"
   ]
  },
  {
   "cell_type": "code",
   "execution_count": 46,
   "id": "40e69293",
   "metadata": {},
   "outputs": [
    {
     "data": {
      "text/plain": [
       "<sqlite3.Cursor at 0x21b2f5f01c0>"
      ]
     },
     "execution_count": 46,
     "metadata": {},
     "output_type": "execute_result"
    }
   ],
   "source": [
    "HospitalDB.execute(\"\"\"\n",
    "CREATE TABLE IF NOT EXISTS Patients (\n",
    "    patient_id INTEGER PRIMARY KEY AUTOINCREMENT,\n",
    "    patient_name TEXT NOT NULL,\n",
    "    age INTEGER NOT NULL\n",
    ")\n",
    "\"\"\")"
   ]
  },
  {
   "cell_type": "code",
   "execution_count": 47,
   "id": "091c2766",
   "metadata": {},
   "outputs": [
    {
     "data": {
      "text/plain": [
       "<sqlite3.Cursor at 0x21b2f5f01c0>"
      ]
     },
     "execution_count": 47,
     "metadata": {},
     "output_type": "execute_result"
    }
   ],
   "source": [
    "patients = [\n",
    "    (\"Alice Perera\", 30),\n",
    "    (\"Bob Fernando\", 45),\n",
    "    (\"Chamara Silva\", 27),\n",
    "    (\"Dinesh Wickramasinghe\", 52),\n",
    "    (\"Erandi Jayasuriya\", 36),\n",
    "    (\"Farah Imtiaz\", 40),\n",
    "    (\"Gihan Rajapaksha\", 29),\n",
    "    (\"Hiruni Madushani\", 33),\n",
    "    (\"Ishara Weerasinghe\", 41),\n",
    "    (\"Janith Kumara\", 25)\n",
    "]\n",
    "\n",
    "HospitalDB.executemany(\n",
    "    \"INSERT INTO Patients (patient_name, age) VALUES (?, ?)\",\n",
    "    patients\n",
    ")"
   ]
  },
  {
   "cell_type": "code",
   "execution_count": 48,
   "id": "9507f74f",
   "metadata": {},
   "outputs": [
    {
     "name": "stdout",
     "output_type": "stream",
     "text": [
      "Patients Table:\n",
      "ID | Name                     | Age\n",
      "----------------------------------------\n",
      "1   | Alice Perera             | 30\n",
      "2   | Bob Fernando             | 45\n",
      "3   | Chamara Silva            | 27\n",
      "4   | Dinesh Wickramasinghe    | 52\n",
      "5   | Erandi Jayasuriya        | 36\n",
      "6   | Farah Imtiaz             | 40\n",
      "7   | Gihan Rajapaksha         | 29\n",
      "8   | Hiruni Madushani         | 33\n",
      "9   | Ishara Weerasinghe       | 41\n",
      "10  | Janith Kumara            | 25\n",
      "11  | Alice Perera             | 30\n",
      "12  | Bob Fernando             | 45\n",
      "13  | Chamara Silva            | 27\n",
      "14  | Dinesh Wickramasinghe    | 52\n",
      "15  | Erandi Jayasuriya        | 36\n",
      "16  | Farah Imtiaz             | 40\n",
      "17  | Gihan Rajapaksha         | 29\n",
      "18  | Hiruni Madushani         | 33\n",
      "19  | Ishara Weerasinghe       | 41\n",
      "20  | Janith Kumara            | 25\n",
      "21  | Alice Perera             | 30\n",
      "22  | Bob Fernando             | 45\n",
      "23  | Chamara Silva            | 27\n",
      "24  | Dinesh Wickramasinghe    | 52\n",
      "25  | Erandi Jayasuriya        | 36\n",
      "26  | Farah Imtiaz             | 40\n",
      "27  | Gihan Rajapaksha         | 29\n",
      "28  | Hiruni Madushani         | 33\n",
      "29  | Ishara Weerasinghe       | 41\n",
      "30  | Janith Kumara            | 25\n",
      "31  | Alice Perera             | 30\n",
      "32  | Bob Fernando             | 45\n",
      "33  | Chamara Silva            | 27\n",
      "34  | Dinesh Wickramasinghe    | 52\n",
      "35  | Erandi Jayasuriya        | 36\n",
      "36  | Farah Imtiaz             | 40\n",
      "37  | Gihan Rajapaksha         | 29\n",
      "38  | Hiruni Madushani         | 33\n",
      "39  | Ishara Weerasinghe       | 41\n",
      "40  | Janith Kumara            | 25\n"
     ]
    }
   ],
   "source": [
    "\n",
    "# Execute a SELECT query to fetch all data from Patients table\n",
    "HospitalDB.execute(\"SELECT * FROM Patients\")\n",
    "\n",
    "# Fetch all rows\n",
    "patients_data =  HospitalDB.fetchall()\n",
    "\n",
    "# Print the results\n",
    "print(\"Patients Table:\")\n",
    "print(\"ID | Name                     | Age\")\n",
    "print(\"-\" * 40)\n",
    "for row in patients_data:\n",
    "    print(f\"{row[0]:<3} | {row[1]:<24} | {row[2]}\")\n"
   ]
  },
  {
   "cell_type": "code",
   "execution_count": 49,
   "id": "0e095208",
   "metadata": {},
   "outputs": [
    {
     "data": {
      "text/plain": [
       "<sqlite3.Cursor at 0x21b2f5f01c0>"
      ]
     },
     "execution_count": 49,
     "metadata": {},
     "output_type": "execute_result"
    }
   ],
   "source": [
    "HospitalDB.execute(\"\"\"\n",
    "CREATE TABLE IF NOT EXISTS Appointments (\n",
    "    appointment_id INTEGER PRIMARY KEY AUTOINCREMENT,\n",
    "    doctor_id INTEGER NOT NULL,\n",
    "    patient_id INTEGER NOT NULL,\n",
    "    appointment_date TEXT NOT NULL,\n",
    "    FOREIGN KEY (doctor_id) REFERENCES Doctors (Doctor_id),\n",
    "    FOREIGN KEY (patient_id) REFERENCES Patients (patient_id)\n",
    ")\n",
    "\"\"\")"
   ]
  },
  {
   "cell_type": "code",
   "execution_count": 50,
   "id": "d10ec644",
   "metadata": {},
   "outputs": [
    {
     "data": {
      "text/plain": [
       "<sqlite3.Cursor at 0x21b2f5f01c0>"
      ]
     },
     "execution_count": 50,
     "metadata": {},
     "output_type": "execute_result"
    }
   ],
   "source": [
    "# Sample data: (doctor_id, patient_id, appointment_date)\n",
    "appointments = [\n",
    "    (1, 1, '2025-06-01'),\n",
    "    (2, 2, '2025-06-02'),\n",
    "    (3, 3, '2025-06-03'),\n",
    "    (4, 4, '2025-06-04'),\n",
    "    (1, 5, '2025-06-05'),  # same doctor, different patient\n",
    "    (2, 1, '2025-06-06'),  # same patient, different doctor\n",
    "]\n",
    "\n",
    "# Insert data into Appointments table\n",
    "HospitalDB.executemany(\"\"\"\n",
    "    INSERT INTO Appointments (doctor_id, patient_id, appointment_date)\n",
    "    VALUES (?, ?, ?)\n",
    "\"\"\", appointments)"
   ]
  },
  {
   "cell_type": "code",
   "execution_count": 51,
   "id": "3893f65d",
   "metadata": {},
   "outputs": [
    {
     "name": "stdout",
     "output_type": "stream",
     "text": [
      "appointment_id | doctor_id | patient_id | appointment_date\n",
      "----------------------------------------------------------\n",
      "1                1            1           2025-06-01\n",
      "2                2            2           2025-06-02\n",
      "3                3            3           2025-06-03\n",
      "4                4            4           2025-06-04\n",
      "5                1            5           2025-06-05\n",
      "6                2            1           2025-06-06\n",
      "7                1            1           2025-06-01\n",
      "8                2            2           2025-06-02\n",
      "9                3            3           2025-06-03\n",
      "10               4            4           2025-06-04\n",
      "11               1            5           2025-06-05\n",
      "12               2            1           2025-06-06\n",
      "13               1            1           2025-06-01\n",
      "14               2            2           2025-06-02\n",
      "15               3            3           2025-06-03\n",
      "16               4            4           2025-06-04\n",
      "17               1            5           2025-06-05\n",
      "18               2            1           2025-06-06\n",
      "19               1            1           2025-06-01\n",
      "20               2            2           2025-06-02\n",
      "21               3            3           2025-06-03\n",
      "22               4            4           2025-06-04\n",
      "23               1            5           2025-06-05\n",
      "24               2            1           2025-06-06\n"
     ]
    }
   ],
   "source": [
    "# View Appointments table\n",
    "\n",
    "HospitalDB.execute(\"SELECT * FROM Appointments\")\n",
    "rows = HospitalDB.fetchall()\n",
    "\n",
    "print(\"appointment_id | doctor_id | patient_id | appointment_date\")\n",
    "print(\"----------------------------------------------------------\")\n",
    "for row in rows:\n",
    "    print(f\"{row[0]:<16} {row[1]:<12} {row[2]:<11} {row[3]}\")\n"
   ]
  },
  {
   "cell_type": "code",
   "execution_count": 52,
   "id": "7b1a5688",
   "metadata": {},
   "outputs": [
    {
     "data": {
      "text/plain": [
       "<sqlite3.Cursor at 0x21b2f5f01c0>"
      ]
     },
     "execution_count": 52,
     "metadata": {},
     "output_type": "execute_result"
    }
   ],
   "source": [
    "# Create the MedicalRecords table\n",
    "HospitalDB.execute(\"\"\"\n",
    "CREATE TABLE IF NOT EXISTS MedicalRecords (\n",
    "    record_id INTEGER PRIMARY KEY AUTOINCREMENT,\n",
    "    patient_id INTEGER NOT NULL,\n",
    "    doctor_id INTEGER NOT NULL,\n",
    "    diagnosis TEXT NOT NULL,\n",
    "    treatment TEXT NOT NULL,\n",
    "    FOREIGN KEY (patient_id) REFERENCES Patients(patient_id),\n",
    "    FOREIGN KEY (doctor_id) REFERENCES Doctors(Doctor_id)\n",
    ")\n",
    "\"\"\")\n"
   ]
  },
  {
   "cell_type": "code",
   "execution_count": 53,
   "id": "807ee969",
   "metadata": {},
   "outputs": [
    {
     "data": {
      "text/plain": [
       "<sqlite3.Cursor at 0x21b2f5f01c0>"
      ]
     },
     "execution_count": 53,
     "metadata": {},
     "output_type": "execute_result"
    }
   ],
   "source": [
    "# Sample data: (patient_id, doctor_id, diagnosis, treatment)\n",
    "medical_records = [\n",
    "    (1, 1, 'Flu', 'Rest and hydration'),\n",
    "    (2, 2, 'Hypertension', 'Medication and lifestyle change'),\n",
    "    (3, 3, 'Fractured Arm', 'Cast and physiotherapy'),\n",
    "    (4, 4, 'Arthritis', 'Painkillers and physical therapy'),\n",
    "    (5, 1, 'Common Cold', 'Paracetamol and rest'),\n",
    "    (2, 3, 'Back Pain', 'Exercises and posture correction'),\n",
    "    (1, 2, 'Migraine', 'Aspirin and rest'),\n",
    "    (3, 4, 'Stomach Ache', 'Antacids and dietary changes'),\n",
    "    (4, 1, 'Allergic Reaction', 'Antihistamines and avoiding triggers'),\n",
    "]\n",
    "\n",
    "# Insert data into MedicalRecords table\n",
    "HospitalDB.executemany(\"\"\"\n",
    "    INSERT INTO MedicalRecords (patient_id, doctor_id, diagnosis, treatment)\n",
    "    VALUES (?, ?, ?, ?)\n",
    "\"\"\", medical_records)"
   ]
  },
  {
   "cell_type": "code",
   "execution_count": 54,
   "id": "2034ad5d",
   "metadata": {},
   "outputs": [
    {
     "name": "stdout",
     "output_type": "stream",
     "text": [
      "record_id | patient_id | doctor_id | diagnosis         | treatment\n",
      "--------------------------------------------------------------------------\n",
      "1            1             1            Flu                  Rest and hydration\n",
      "2            2             2            Hypertension         Medication and lifestyle change\n",
      "3            3             3            Fractured Arm        Cast and physiotherapy\n",
      "4            4             4            Arthritis            Painkillers and physical therapy\n",
      "5            5             1            Common Cold          Paracetamol and rest\n",
      "6            2             3            Back Pain            Exercises and posture correction\n",
      "7            1             2            Migraine             Aspirin and rest\n",
      "8            3             4            Stomach Ache         Antacids and dietary changes\n",
      "9            4             1            Allergic Reaction    Antihistamines and avoiding triggers\n",
      "10           1             1            Flu                  Rest and hydration\n",
      "11           2             2            Hypertension         Medication and lifestyle change\n",
      "12           3             3            Fractured Arm        Cast and physiotherapy\n",
      "13           4             4            Arthritis            Painkillers and physical therapy\n",
      "14           5             1            Common Cold          Paracetamol and rest\n",
      "15           2             3            Back Pain            Exercises and posture correction\n",
      "16           1             2            Migraine             Aspirin and rest\n",
      "17           3             4            Stomach Ache         Antacids and dietary changes\n",
      "18           4             1            Allergic Reaction    Antihistamines and avoiding triggers\n",
      "19           1             1            Flu                  Rest and hydration\n",
      "20           2             2            Hypertension         Medication and lifestyle change\n",
      "21           3             3            Fractured Arm        Cast and physiotherapy\n",
      "22           4             4            Arthritis            Painkillers and physical therapy\n",
      "23           5             1            Common Cold          Paracetamol and rest\n",
      "24           2             3            Back Pain            Exercises and posture correction\n",
      "25           1             2            Migraine             Aspirin and rest\n",
      "26           3             4            Stomach Ache         Antacids and dietary changes\n",
      "27           4             1            Allergic Reaction    Antihistamines and avoiding triggers\n",
      "28           1             1            Flu                  Rest and hydration\n",
      "29           2             2            Hypertension         Medication and lifestyle change\n",
      "30           3             3            Fractured Arm        Cast and physiotherapy\n",
      "31           4             4            Arthritis            Painkillers and physical therapy\n",
      "32           5             1            Common Cold          Paracetamol and rest\n",
      "33           2             3            Back Pain            Exercises and posture correction\n",
      "34           1             2            Migraine             Aspirin and rest\n",
      "35           3             4            Stomach Ache         Antacids and dietary changes\n",
      "36           4             1            Allergic Reaction    Antihistamines and avoiding triggers\n"
     ]
    }
   ],
   "source": [
    "\n",
    "HospitalDB.execute(\"SELECT * FROM MedicalRecords\")\n",
    "rows = HospitalDB.fetchall()\n",
    "\n",
    "print(\"record_id | patient_id | doctor_id | diagnosis         | treatment\")\n",
    "print(\"--------------------------------------------------------------------------\")\n",
    "for row in rows:\n",
    "    print(f\"{row[0]:<12} {row[1]:<13} {row[2]:<12} {row[3]:<20} {row[4]}\")\n"
   ]
  },
  {
   "cell_type": "code",
   "execution_count": 55,
   "id": "8d6b5ac8",
   "metadata": {},
   "outputs": [
    {
     "name": "stdout",
     "output_type": "stream",
     "text": [
      "[(1, 'Dr. Namalie', 45), (2, 'Dr. Nalin', 38), (3, 'Dr. Gihan', 50), (4, 'Dr. Wasana', 40), (5, 'Dr. Anjana', 35), (6, 'Dr. Nadeesha', 42), (7, 'Dr. Kavindya', 32), (8, 'Dr. Malith', 48), (9, 'Dr. Sithara', 37), (10, 'Dr. Anushka', 35), (11, 'Dr. Namalie', 45), (12, 'Dr. Nalin', 38), (13, 'Dr. Gihan', 50), (14, 'Dr. Wasana', 40), (15, 'Dr. Anjana', 35), (16, 'Dr. Nadeesha', 42), (17, 'Dr. Kavindya', 32), (18, 'Dr. Malith', 48), (19, 'Dr. Sithara', 37), (20, 'Dr. Anushka', 35), (21, 'Dr. Namalie', 45), (22, 'Dr. Nalin', 38), (23, 'Dr. Gihan', 50), (24, 'Dr. Wasana', 40), (25, 'Dr. Anjana', 35), (26, 'Dr. Nadeesha', 42), (27, 'Dr. Kavindya', 32), (28, 'Dr. Malith', 48), (29, 'Dr. Sithara', 37), (30, 'Dr. Anushka', 35), (31, 'Dr. Namalie', 45), (32, 'Dr. Nalin', 38), (33, 'Dr. Gihan', 50), (34, 'Dr. Wasana', 40), (35, 'Dr. Anjana', 35), (36, 'Dr. Nadeesha', 42), (37, 'Dr. Kavindya', 32), (38, 'Dr. Malith', 48), (39, 'Dr. Sithara', 37), (40, 'Dr. Anushka', 35)]\n"
     ]
    }
   ],
   "source": [
    "HospitalDB.execute(\"SELECT * FROM Doctors\")\n",
    "Doctors = HospitalDB.fetchall()\n",
    "print(Doctors)"
   ]
  },
  {
   "cell_type": "code",
   "execution_count": 56,
   "id": "b404d8fd",
   "metadata": {},
   "outputs": [
    {
     "name": "stdout",
     "output_type": "stream",
     "text": [
      "[('Dr. Namalie', 'Alice Perera', '2025-06-01'), ('Dr. Namalie', 'Erandi Jayasuriya', '2025-06-05'), ('Dr. Namalie', 'Gihan Rajapaksha', '2025-06-01'), ('Dr. Namalie', 'Alice Perera', '2025-06-05'), ('Dr. Namalie', 'Chamara Silva', '2025-06-01'), ('Dr. Namalie', 'Gihan Rajapaksha', '2025-06-05'), ('Dr. Namalie', 'Ishara Weerasinghe', '2025-06-01'), ('Dr. Namalie', 'Chamara Silva', '2025-06-05')]\n"
     ]
    }
   ],
   "source": [
    "HospitalDB.execute(\"\"\"SELECT D.name, p.patient_name, A.appointment_date\n",
    "FROM Doctors D\n",
    "JOIN Appointments A ON D.Doctor_id = A.doctor_id\n",
    "JOIN Patients p ON p.patient_id = A.appointment_id\n",
    "WHERE D.name = 'Dr. Namalie';\"\"\")\n",
    "Doctors = HospitalDB.fetchall()\n",
    "print(Doctors)"
   ]
  },
  {
   "cell_type": "code",
   "execution_count": 57,
   "id": "1bc86969",
   "metadata": {},
   "outputs": [
    {
     "name": "stdout",
     "output_type": "stream",
     "text": [
      "API key loaded: gsk_o9c1ew...\n"
     ]
    }
   ],
   "source": [
    "# Load API key from .env file\n",
    "import os\n",
    "from dotenv import load_dotenv\n",
    "\n",
    "# Load environment variables from .env file\n",
    "load_dotenv()\n",
    "\n",
    "# Now you can safely access your API key\n",
    "api_key = os.getenv(\"OPENAI_API_KEY\")\n",
    "\n",
    "# You can verify it's loaded (prints first 10 chars followed by ...)\n",
    "print(f\"API key loaded: {api_key[:10]}...\") if api_key else print(\"API key not found\")"
   ]
  },
  {
   "cell_type": "code",
   "execution_count": 58,
   "id": "1983611c",
   "metadata": {},
   "outputs": [],
   "source": [
    "Dbconnect.commit()"
   ]
  },
  {
   "cell_type": "code",
   "execution_count": 81,
   "id": "ff224097",
   "metadata": {},
   "outputs": [],
   "source": [
    "# Import the SQLDatabase module\n",
    "from langchain_community.utilities.sql_database import SQLDatabase\n",
    "\n",
    "# Create a SQLDatabase instance from your existing database\n",
    "db_path = \"sqlite:///Hospital.db\"\n",
    "db = SQLDatabase.from_uri(db_path)"
   ]
  },
  {
   "cell_type": "code",
   "execution_count": 82,
   "id": "f6d92180",
   "metadata": {},
   "outputs": [
    {
     "name": "stdout",
     "output_type": "stream",
     "text": [
      "Python interpreter: c:\\Users\\yasiru\\AppData\\Local\\Programs\\Python\\Python310\\python.exe\n",
      "langchain_community version: 0.3.24\n",
      "✅ Package is installed correctly!\n"
     ]
    }
   ],
   "source": [
    "# Check if langchain_community is installed correctly\n",
    "import sys\n",
    "print(f\"Python interpreter: {sys.executable}\")\n",
    "\n",
    "try:\n",
    "    import langchain_community\n",
    "    print(f\"langchain_community version: {langchain_community.__version__}\")\n",
    "    print(\"✅ Package is installed correctly!\")\n",
    "except ImportError:\n",
    "    print(\"❌ Package is not installed correctly!\")"
   ]
  },
  {
   "cell_type": "code",
   "execution_count": 83,
   "id": "d997f4a8",
   "metadata": {},
   "outputs": [],
   "source": [
    "from langchain_groq import ChatGroq\n",
    "\n",
    "# Replace your current OpenAI implementation with Groq\n",
    "llm = ChatGroq(\n",
    "    model=\"llama2-70b-4096\",\n",
    "    temperature=0,\n",
    "    groq_api_key=api_key\n",
    ")"
   ]
  },
  {
   "cell_type": "code",
   "execution_count": 87,
   "id": "e5c1efe1",
   "metadata": {},
   "outputs": [],
   "source": [
    "from langchain_groq import ChatGroq\n",
    "\n",
    "# Replace your current OpenAI implementation with Groq\n",
    "llm = ChatGroq(\n",
    "    model=\"llama-3.3-70b-versatile\",\n",
    "    temperature=0,\n",
    "    groq_api_key=api_key\n",
    ")"
   ]
  },
  {
   "cell_type": "code",
   "execution_count": 91,
   "id": "a14b1f52",
   "metadata": {},
   "outputs": [
    {
     "name": "stdout",
     "output_type": "stream",
     "text": [
      "✅ Connection successful!\n",
      "Model response: I'm functioning as intended. I can understand and respond to your questions and engage in conversation. Is there something specific you'd like to talk about or ask? I'm here to help....\n"
     ]
    }
   ],
   "source": [
    "# Simple test function\n",
    "def test_llm():\n",
    "    try:\n",
    "        # Make a simple request\n",
    "        response = llm.invoke(\"Hello, are you working properly?\")\n",
    "        print(\"✅ Connection successful!\")\n",
    "        print(f\"Model response: {response.content[:10000]}...\")  \n",
    "    except Exception as e:\n",
    "        print(\"❌ Error connecting to Groq:\")\n",
    "        print(f\"Error type: {type(e).__name__}\")\n",
    "        print(f\"Error message: {str(e)}\")\n",
    "        return False\n",
    "\n",
    "# Run the test\n",
    "test_llm()"
   ]
  },
  {
   "cell_type": "code",
   "execution_count": 62,
   "id": "bae308b3",
   "metadata": {},
   "outputs": [
    {
     "name": "stdout",
     "output_type": "stream",
     "text": [
      "Tables in the Hospital database:\n",
      "- Appointments\n",
      "- Doctors\n",
      "- MedicalRecords\n",
      "- Patients\n"
     ]
    }
   ],
   "source": [
    "# Show all tables in the Hospital database\n",
    "tables = db.get_table_names()\n",
    "print(\"Tables in the Hospital database:\")\n",
    "for table in tables:\n",
    "    print(f\"- {table}\")"
   ]
  },
  {
   "cell_type": "code",
   "execution_count": 63,
   "id": "c950140d",
   "metadata": {},
   "outputs": [
    {
     "name": "stdout",
     "output_type": "stream",
     "text": [
      "['Appointments', 'Doctors', 'MedicalRecords', 'Patients']\n"
     ]
    }
   ],
   "source": [
    "print(db.get_usable_table_names())"
   ]
  },
  {
   "cell_type": "code",
   "execution_count": 64,
   "id": "7e6466b3",
   "metadata": {},
   "outputs": [
    {
     "name": "stdout",
     "output_type": "stream",
     "text": [
      "\n",
      "CREATE TABLE \"Appointments\" (\n",
      "\tappointment_id INTEGER, \n",
      "\tdoctor_id INTEGER NOT NULL, \n",
      "\tpatient_id INTEGER NOT NULL, \n",
      "\tappointment_date TEXT NOT NULL, \n",
      "\tPRIMARY KEY (appointment_id), \n",
      "\tFOREIGN KEY(doctor_id) REFERENCES \"Doctors\" (\"Doctor_id\"), \n",
      "\tFOREIGN KEY(patient_id) REFERENCES \"Patients\" (patient_id)\n",
      ")\n",
      "\n",
      "/*\n",
      "3 rows from Appointments table:\n",
      "appointment_id\tdoctor_id\tpatient_id\tappointment_date\n",
      "1\t1\t1\t2025-06-01\n",
      "2\t2\t2\t2025-06-02\n",
      "3\t3\t3\t2025-06-03\n",
      "*/\n",
      "\n",
      "\n",
      "CREATE TABLE \"Doctors\" (\n",
      "\t\"Doctor_id\" INTEGER, \n",
      "\tname TEXT NOT NULL, \n",
      "\tage INTEGER NOT NULL, \n",
      "\tPRIMARY KEY (\"Doctor_id\")\n",
      ")\n",
      "\n",
      "/*\n",
      "3 rows from Doctors table:\n",
      "Doctor_id\tname\tage\n",
      "1\tDr. Namalie\t45\n",
      "2\tDr. Nalin\t38\n",
      "3\tDr. Gihan\t50\n",
      "*/\n",
      "\n",
      "\n",
      "CREATE TABLE \"MedicalRecords\" (\n",
      "\trecord_id INTEGER, \n",
      "\tpatient_id INTEGER NOT NULL, \n",
      "\tdoctor_id INTEGER NOT NULL, \n",
      "\tdiagnosis TEXT NOT NULL, \n",
      "\ttreatment TEXT NOT NULL, \n",
      "\tPRIMARY KEY (record_id), \n",
      "\tFOREIGN KEY(patient_id) REFERENCES \"Patients\" (patient_id), \n",
      "\tFOREIGN KEY(doctor_id) REFERENCES \"Doctors\" (\"Doctor_id\")\n",
      ")\n",
      "\n",
      "/*\n",
      "3 rows from MedicalRecords table:\n",
      "record_id\tpatient_id\tdoctor_id\tdiagnosis\ttreatment\n",
      "1\t1\t1\tFlu\tRest and hydration\n",
      "2\t2\t2\tHypertension\tMedication and lifestyle change\n",
      "3\t3\t3\tFractured Arm\tCast and physiotherapy\n",
      "*/\n",
      "\n",
      "\n",
      "CREATE TABLE \"Patients\" (\n",
      "\tpatient_id INTEGER, \n",
      "\tpatient_name TEXT NOT NULL, \n",
      "\tage INTEGER NOT NULL, \n",
      "\tPRIMARY KEY (patient_id)\n",
      ")\n",
      "\n",
      "/*\n",
      "3 rows from Patients table:\n",
      "patient_id\tpatient_name\tage\n",
      "1\tAlice Perera\t30\n",
      "2\tBob Fernando\t45\n",
      "3\tChamara Silva\t27\n",
      "*/\n"
     ]
    }
   ],
   "source": [
    "print(db.table_info)"
   ]
  },
  {
   "cell_type": "code",
   "execution_count": 65,
   "id": "1b29a92c",
   "metadata": {},
   "outputs": [
    {
     "name": "stdout",
     "output_type": "stream",
     "text": [
      "Doctors with Medical Records:\n",
      "Dr. Namalie\n",
      "Dr. Nalin\n",
      "Dr. Gihan\n",
      "Dr. Wasana\n"
     ]
    }
   ],
   "source": [
    "HospitalDB.execute(\"\"\"\n",
    "    SELECT DISTINCT d.name\n",
    "    FROM Doctors d\n",
    "    JOIN MedicalRecords m ON d.Doctor_id = m.doctor_id\n",
    "\"\"\")\n",
    "Doctors = HospitalDB.fetchall()\n",
    "\n",
    "print(\"Doctors with Medical Records:\")\n",
    "for doc in Doctors:\n",
    "    print(doc[0])\n"
   ]
  },
  {
   "cell_type": "code",
   "execution_count": 66,
   "id": "fb2d64a0",
   "metadata": {},
   "outputs": [
    {
     "name": "stdout",
     "output_type": "stream",
     "text": [
      "Doctors with Appointments:\n",
      "Dr. Namalie\n",
      "Dr. Nalin\n",
      "Dr. Gihan\n",
      "Dr. Wasana\n"
     ]
    }
   ],
   "source": [
    "HospitalDB.execute(\"\"\"\n",
    "    SELECT DISTINCT d.name\n",
    "    FROM Doctors d\n",
    "    JOIN Appointments a ON d.Doctor_id = a.doctor_id\n",
    "\"\"\")\n",
    "Doctors = HospitalDB.fetchall()\n",
    "\n",
    "# Print results\n",
    "print(\"Doctors with Appointments:\")\n",
    "for doc in Doctors:\n",
    "    print(doc[0])\n"
   ]
  },
  {
   "cell_type": "markdown",
   "id": "d443ee0e",
   "metadata": {},
   "source": []
  },
  {
   "cell_type": "code",
   "execution_count": 95,
   "id": "08a519bb",
   "metadata": {},
   "outputs": [],
   "source": [
    "from langchain.chains import create_sql_query_chain\n",
    "# Create a SQL query chain using the database and the language model\n",
    "sql_query_chain = create_sql_query_chain(\n",
    "    llm=llm,\n",
    "    db=db\n",
    ")"
   ]
  },
  {
   "cell_type": "code",
   "execution_count": 96,
   "id": "c6ca2ace",
   "metadata": {},
   "outputs": [],
   "source": [
    "from langchain_community.tools import QuerySQLDatabaseTool\n",
    "query_execute = QuerySQLDatabaseTool(\n",
    "    db=db\n",
    ")"
   ]
  },
  {
   "cell_type": "code",
   "execution_count": 97,
   "id": "b5d574e5",
   "metadata": {},
   "outputs": [
    {
     "name": "stdout",
     "output_type": "stream",
     "text": [
      "Question: Details of all Doctors\n",
      "SQLQuery: SELECT \"Doctor_id\", \"name\", \"age\" FROM \"Doctors\" LIMIT 5\n"
     ]
    }
   ],
   "source": [
    "query = sql_query_chain.invoke({\"question\": \"Details of all Doctors\"})\n",
    "print(query)"
   ]
  },
  {
   "cell_type": "code",
   "execution_count": 110,
   "id": "e62979e7",
   "metadata": {},
   "outputs": [
    {
     "name": "stdout",
     "output_type": "stream",
     "text": [
      "Full response from chain:\n",
      "Question: Details of all Doctors\n",
      "SQLQuery: SELECT \"Doctor_id\", \"name\", \"age\" FROM \"Doctors\" LIMIT 5\n",
      "\n",
      "Extracted SQL query:\n",
      "SELECT \"Doctor_id\", \"name\", \"age\" FROM \"Doctors\" LIMIT 5\n",
      "\n",
      "Query result:\n",
      "[(1, 'Dr. Namalie', 45), (2, 'Dr. Nalin', 38), (3, 'Dr. Gihan', 50), (4, 'Dr. Wasana', 40), (5, 'Dr. Anjana', 35)]\n"
     ]
    }
   ],
   "source": [
    "# Get the query from the chain\n",
    "full_response = sql_query_chain.invoke({\"question\": \"Details of all Doctors\"})\n",
    "print(\"Full response from chain:\")\n",
    "print(full_response)\n",
    "\n",
    "# Extract just the SQL part (after \"SQLQuery:\")\n",
    "import re\n",
    "sql_only = re.search(r'SQLQuery: (.*)', full_response, re.DOTALL)\n",
    "if sql_only:\n",
    "    clean_query = sql_only.group(1).strip()\n",
    "    print(\"\\nExtracted SQL query:\")\n",
    "    print(clean_query)\n",
    "    \n",
    "    # Execute only the SQL part\n",
    "    result = query_execute.invoke(clean_query)\n",
    "    print(\"\\nQuery result:\")\n",
    "    print(result)\n",
    "else:\n",
    "    print(\"Could not extract SQL query from response\")"
   ]
  },
  {
   "cell_type": "code",
   "execution_count": 112,
   "id": "c62bf346",
   "metadata": {},
   "outputs": [
    {
     "name": "stdout",
     "output_type": "stream",
     "text": [
      "Question: Which Doctors are assigned to treat Hypertension and Flu?\n",
      "SQLQuery: \n",
      "SELECT DISTINCT \"D\".\"name\" \n",
      "FROM \"Doctors\" \"D\" \n",
      "JOIN \"MedicalRecords\" \"M\" ON \"D\".\"Doctor_id\" = \"M\".\"doctor_id\" \n",
      "WHERE \"M\".\"diagnosis\" IN ('Hypertension', 'Flu')\n"
     ]
    }
   ],
   "source": [
    "query = sql_query_chain.invoke({\"question\": \"Which Doctors are assigned to treat Hypertension and Flu?\"})\n",
    "print(query)"
   ]
  },
  {
   "cell_type": "code",
   "execution_count": 120,
   "id": "06e87ab0",
   "metadata": {},
   "outputs": [
    {
     "name": "stdout",
     "output_type": "stream",
     "text": [
      "Full response from chain:\n",
      "Question: Which Doctors are assigned to treat Hypertension and Flu?\n",
      "SQLQuery: \n",
      "SELECT DISTINCT \"D\".\"name\" \n",
      "FROM \"Doctors\" \"D\" \n",
      "JOIN \"MedicalRecords\" \"M\" ON \"D\".\"Doctor_id\" = \"M\".\"doctor_id\" \n",
      "WHERE \"M\".\"diagnosis\" IN ('Hypertension', 'Flu') \n",
      "LIMIT 5\n",
      "\n",
      "Extracted SQL query:\n",
      "SELECT DISTINCT \"D\".\"name\" \n",
      "FROM \"Doctors\" \"D\" \n",
      "JOIN \"MedicalRecords\" \"M\" ON \"D\".\"Doctor_id\" = \"M\".\"doctor_id\" \n",
      "WHERE \"M\".\"diagnosis\" IN ('Hypertension', 'Flu') \n",
      "LIMIT 5\n",
      "\n",
      "Query result:\n",
      "[('Dr. Namalie',), ('Dr. Nalin',)]\n"
     ]
    }
   ],
   "source": [
    "# Get the query from the chain\n",
    "full_response = sql_query_chain.invoke({\"question\": \"Which Doctors are assigned to treat Hypertension and Flu? give me\"})\n",
    "print(\"Full response from chain:\")\n",
    "print(full_response)\n",
    "\n",
    "# Extract just the SQL part (after \"SQLQuery:\")\n",
    "import re\n",
    "sql_only = re.search(r'SQLQuery: (.*)', full_response, re.DOTALL)\n",
    "if sql_only:\n",
    "    clean_query = sql_only.group(1).strip()\n",
    "    print(\"\\nExtracted SQL query:\")\n",
    "    print(clean_query)\n",
    "    \n",
    "    # Execute only the SQL part\n",
    "    result = query_execute.invoke(clean_query)\n",
    "    print(\"\\nQuery result:\")\n",
    "    print(result)\n",
    "else:\n",
    "    print(\"Could not extract SQL query from response\")"
   ]
  },
  {
   "cell_type": "code",
   "execution_count": 124,
   "id": "e9b66d8a",
   "metadata": {},
   "outputs": [
    {
     "name": "stdout",
     "output_type": "stream",
     "text": [
      "Full response from chain:\n",
      "To answer this question, we need to find the doctors who are assigned to treat headache and Flu. However, since there is no record of a patient being diagnosed with a headache in the provided MedicalRecords table, we can only find the doctor who is assigned to treat Flu.\n",
      "\n",
      "SQLQuery: \n",
      "```sql\n",
      "SELECT \"Doctors\".name \n",
      "FROM \"Doctors\" \n",
      "JOIN \"MedicalRecords\" ON \"Doctors\".\"Doctor_id\" = \"MedicalRecords\".doctor_id \n",
      "WHERE \"MedicalRecords\".diagnosis = 'Flu' \n",
      "LIMIT 5;\n",
      "```\n",
      "\n",
      "Since there is no record of a patient being diagnosed with a headache, we cannot find any doctor assigned to treat headache.\n",
      "\n",
      "Please note that the above query will return the doctor who is assigned to treat Flu. If you want to get the doctors who are assigned to treat both headache and Flu, you would need to have a record of a patient being diagnosed with a headache in the MedicalRecords table.\n",
      "\n",
      "Let's assume the query is run and we get the result.\n",
      "\n",
      "Extracted SQL query:\n",
      "```sql\n",
      "SELECT \"Doctors\".name \n",
      "FROM \"Doctors\" \n",
      "JOIN \"MedicalRecords\" ON \"Doctors\".\"Doctor_id\" = \"MedicalRecords\".doctor_id \n",
      "WHERE \"MedicalRecords\".diagnosis = 'Flu' \n",
      "LIMIT 5;\n",
      "```\n",
      "\n",
      "Since there is no record of a patient being diagnosed with a headache, we cannot find any doctor assigned to treat headache.\n",
      "\n",
      "Please note that the above query will return the doctor who is assigned to treat Flu. If you want to get the doctors who are assigned to treat both headache and Flu, you would need to have a record of a patient being diagnosed with a headache in the MedicalRecords table.\n",
      "\n",
      "Let's assume the query is run and we get the result.\n",
      "\n",
      "============================================================\n",
      "QUERY RESULTS: Doctors Treating Hypertension and Flu\n",
      "============================================================\n",
      "Couldn't format results, showing raw output:\n",
      "Error: (sqlite3.OperationalError) near \"```sql\n",
      "SELECT \"Doctors\".name \n",
      "FROM \"Doctors\" \n",
      "JOIN \"MedicalRecords\" ON \"Doctors\".\"Doctor_id\" = \"MedicalRecords\".doctor_id \n",
      "WHERE \"MedicalRecords\".diagnosis = 'Flu' \n",
      "LIMIT 5;\n",
      "```\": syntax error\n",
      "[SQL: ```sql\n",
      "SELECT \"Doctors\".name \n",
      "FROM \"Doctors\" \n",
      "JOIN \"MedicalRecords\" ON \"Doctors\".\"Doctor_id\" = \"MedicalRecords\".doctor_id \n",
      "WHERE \"MedicalRecords\".diagnosis = 'Flu' \n",
      "LIMIT 5;\n",
      "```\n",
      "\n",
      "Since there is no record of a patient being diagnosed with a headache, we cannot find any doctor assigned to treat headache.\n",
      "\n",
      "Please note that the above query will return the doctor who is assigned to treat Flu. If you want to get the doctors who are assigned to treat both headache and Flu, you would need to have a record of a patient being diagnosed with a headache in the MedicalRecords table.\n",
      "\n",
      "Let's assume the query is run and we get the result.]\n",
      "(Background on this error at: https://sqlalche.me/e/20/e3q8)\n",
      "============================================================\n"
     ]
    }
   ],
   "source": [
    "# Get the query from the chain\n",
    "full_response = sql_query_chain.invoke({\"question\": \"Which Doctors are assigned to treat headache and Flu? give me\"})\n",
    "print(\"Full response from chain:\")\n",
    "print(full_response)\n",
    "\n",
    "# Extract just the SQL part (after \"SQLQuery:\")\n",
    "import re\n",
    "sql_only = re.search(r'SQLQuery: (.*)', full_response, re.DOTALL)\n",
    "if sql_only:\n",
    "    clean_query = sql_only.group(1).strip()\n",
    "    print(\"\\nExtracted SQL query:\")\n",
    "    print(clean_query)\n",
    "    \n",
    "    # Execute only the SQL part\n",
    "    raw_result = query_execute.invoke(clean_query)\n",
    "    \n",
    "    # Format the results professionally\n",
    "    def format_professional_results(result_str, question):\n",
    "        print(\"\\n\" + \"=\"*60)\n",
    "        print(f\"QUERY RESULTS: {question}\")\n",
    "        print(\"=\"*60)\n",
    "        \n",
    "        # Parse the result (assuming it comes as a string representation of a list)\n",
    "        try:\n",
    "            # Handle different result formats\n",
    "            if isinstance(result_str, list):\n",
    "                results = result_str\n",
    "            else:\n",
    "                # Convert string representation of results to actual data\n",
    "                import ast\n",
    "                results = ast.literal_eval(result_str)\n",
    "                \n",
    "            if len(results) == 0:\n",
    "                print(\"No results found.\")\n",
    "                return\n",
    "                \n",
    "            # Get column names from first result if available\n",
    "            if isinstance(results[0], dict):\n",
    "                headers = results[0].keys()\n",
    "                # Create header row\n",
    "                header_str = \" | \".join(str(h).upper() for h in headers)\n",
    "                print(header_str)\n",
    "                print(\"-\" * len(header_str))\n",
    "                \n",
    "                # Print each row\n",
    "                for row in results:\n",
    "                    print(\" | \".join(str(row[h]) for h in headers))\n",
    "            else:\n",
    "                # If results are simple tuples/lists\n",
    "                for row in results:\n",
    "                    if isinstance(row, (list, tuple)):\n",
    "                        print(\" | \".join(str(item) for item in row))\n",
    "                    else:\n",
    "                        print(row)\n",
    "        except Exception as e:\n",
    "            # Fallback if parsing fails\n",
    "            print(\"Couldn't format results, showing raw output:\")\n",
    "            print(result_str)\n",
    "            \n",
    "        print(\"=\"*60)\n",
    "    \n",
    "    # Present the formatted results\n",
    "    format_professional_results(raw_result, \"Doctors Treating Hypertension and Flu\")\n",
    "else:\n",
    "    print(\"Could not extract SQL query from response\")"
   ]
  },
  {
   "cell_type": "code",
   "execution_count": 115,
   "id": "72c4cedb",
   "metadata": {},
   "outputs": [],
   "source": [
    "from operator import itemgetter\n",
    "\n",
    "from langchain_core.output_parsers import StrOutputParser\n",
    "from langchain_core.prompts import PromptTemplate\n",
    "from langchain_core.runnables import RunnablePassthrough\n",
    "\n",
    "answer_prompt = PromptTemplate.from_template(\n",
    "    \"\"\"Given a user question, the generated SQL query, and its result, write a clear and natural answer to the question.\n",
    "\n",
    "    User Question: {question}\n",
    "    SQL Query: {query}\n",
    "    SQL Result: {result}\n",
    "\n",
    "    Final Answer:\"\"\"\n",
    ")\n",
    "\n",
    "final_answer = answer_prompt | llm | StrOutputParser()"
   ]
  },
  {
   "cell_type": "code",
   "execution_count": 116,
   "id": "d73c8c75",
   "metadata": {},
   "outputs": [],
   "source": [
    "chain = (\n",
    "    RunnablePassthrough.assign(query=sql_query_chain).assign(\n",
    "        result=itemgetter(\"query\") | query_execute\n",
    "    )\n",
    "    | final_answer\n",
    ")"
   ]
  },
  {
   "cell_type": "code",
   "execution_count": 117,
   "id": "9a008bfb",
   "metadata": {},
   "outputs": [
    {
     "data": {
      "text/plain": [
       "'There was an error in retrieving the details of all doctors. The system encountered a syntax error while processing the request, which prevented the retrieval of the desired information. Please try again or contact the administrator for further assistance.'"
      ]
     },
     "execution_count": 117,
     "metadata": {},
     "output_type": "execute_result"
    }
   ],
   "source": [
    "chain.invoke({\"question\": \"Details of all Doctors\"})"
   ]
  },
  {
   "cell_type": "code",
   "execution_count": 108,
   "id": "e5cfb958",
   "metadata": {},
   "outputs": [
    {
     "data": {
      "text/plain": [
       "'It seems there was an error in processing your request. The system encountered a syntax error while trying to execute the query to find the doctors assigned to treat flu. Unfortunately, this means we cannot provide the list of doctors at this time. Please try again later or contact support for further assistance.'"
      ]
     },
     "execution_count": 108,
     "metadata": {},
     "output_type": "execute_result"
    }
   ],
   "source": [
    "chain.invoke({\"question\": \"Which Doctors are assigned to treat flu?\"})"
   ]
  },
  {
   "cell_type": "code",
   "execution_count": null,
   "id": "8f8bd275",
   "metadata": {},
   "outputs": [],
   "source": []
  }
 ],
 "metadata": {
  "kernelspec": {
   "display_name": "Python 3",
   "language": "python",
   "name": "python3"
  },
  "language_info": {
   "codemirror_mode": {
    "name": "ipython",
    "version": 3
   },
   "file_extension": ".py",
   "mimetype": "text/x-python",
   "name": "python",
   "nbconvert_exporter": "python",
   "pygments_lexer": "ipython3",
   "version": "3.10.4"
  }
 },
 "nbformat": 4,
 "nbformat_minor": 5
}
